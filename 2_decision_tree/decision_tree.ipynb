{
 "cells": [
  {
   "cell_type": "code",
   "execution_count": 1,
   "metadata": {},
   "outputs": [],
   "source": [
    "import pandas as pd\n",
    "import numpy as np\n",
    "import matplotlib.pyplot as plt"
   ]
  },
  {
   "cell_type": "code",
   "execution_count": 70,
   "metadata": {},
   "outputs": [],
   "source": [
    "X = np.array(\n",
    "    [\n",
    "        [1, 1, 1],\n",
    "        [0, 0, 1],\n",
    "        [0, 1, 0],\n",
    "        [1, 0, 1],\n",
    "        [1, 1, 1],\n",
    "        [1, 1, 0],\n",
    "        [0, 0, 0],\n",
    "        [1, 1, 0],\n",
    "        [0, 1, 0],\n",
    "        [0, 1, 0]\n",
    "    ]\n",
    ")\n",
    "\n",
    "y = np.array([1, 1, 0, 0, 1, 1, 0, 1, 0, 0])"
   ]
  },
  {
   "cell_type": "code",
   "execution_count": 6,
   "metadata": {},
   "outputs": [],
   "source": [
    "def entropy(p: float) -> float:\n",
    "    return -(p * np.log2(p) + (1 - p) * np.log2(1 - p)) if p != 0 and p != 1 else 0"
   ]
  },
  {
   "cell_type": "code",
   "execution_count": 79,
   "metadata": {},
   "outputs": [],
   "source": [
    "def split_indicies(X: np.array, feature_index: int):\n",
    "    left_indicies, right_indicies = [], []\n",
    "    for i in range(X.shape[0]):\n",
    "        if X[i, feature_index] == 1:\n",
    "            left_indicies.append(i)\n",
    "        else:\n",
    "            right_indicies.append(i)\n",
    "    return left_indicies, right_indicies"
   ]
  },
  {
   "cell_type": "code",
   "execution_count": 82,
   "metadata": {},
   "outputs": [],
   "source": [
    "def weighted_entropy(y: np.array, right_indicies: np.array, left_indicies: np.array) -> float:\n",
    "    w_right = len(right_indicies) / len(y)\n",
    "    w_left = len(left_indicies) / len(y)\n",
    "\n",
    "    p_right = np.sum(y[right_indicies]) / len(right_indicies)\n",
    "    p_left = np.sum(y[left_indicies]) / len(left_indicies)\n",
    "\n",
    "    return w_left * entropy(p_left) +  w_right * entropy(p_right)"
   ]
  },
  {
   "cell_type": "code",
   "execution_count": 83,
   "metadata": {},
   "outputs": [
    {
     "data": {
      "text/plain": [
       "0.7219280948873623"
      ]
     },
     "execution_count": 83,
     "metadata": {},
     "output_type": "execute_result"
    }
   ],
   "source": [
    "left_indices, right_indices = split_indicies(X, 0)\n",
    "weighted_entropy(y, left_indices, right_indices)"
   ]
  },
  {
   "cell_type": "code",
   "execution_count": 84,
   "metadata": {},
   "outputs": [],
   "source": [
    "def information_gain(y: np.array, right_indicies: np.array, left_indicies: np.array) -> float:\n",
    "    p_initial = np.sum(y) / len(y)\n",
    "    return entropy(p_initial) - weighted_entropy(y, right_indicies, left_indicies)"
   ]
  },
  {
   "cell_type": "code",
   "execution_count": 85,
   "metadata": {},
   "outputs": [
    {
     "data": {
      "text/plain": [
       "0.2780719051126377"
      ]
     },
     "execution_count": 85,
     "metadata": {},
     "output_type": "execute_result"
    }
   ],
   "source": [
    "information_gain(y, left_indices, right_indices)"
   ]
  },
  {
   "cell_type": "code",
   "execution_count": 87,
   "metadata": {},
   "outputs": [],
   "source": [
    "def compute_ig(X: np.array, y: np.array) -> list:\n",
    "    information_gain_values = []\n",
    "    for j in range(X.shape[1]):\n",
    "        left_indicies, right_indicies = split_indicies(X, j)\n",
    "        information_gain_values.append(information_gain(y, right_indicies, left_indicies))\n",
    "    return information_gain_values"
   ]
  },
  {
   "cell_type": "code",
   "execution_count": 88,
   "metadata": {},
   "outputs": [
    {
     "data": {
      "text/plain": [
       "[0.2780719051126377, 0.034851554559677034, 0.12451124978365313]"
      ]
     },
     "execution_count": 88,
     "metadata": {},
     "output_type": "execute_result"
    }
   ],
   "source": [
    "compute_ig(X, y)"
   ]
  },
  {
   "cell_type": "code",
   "execution_count": null,
   "metadata": {},
   "outputs": [],
   "source": []
  },
  {
   "cell_type": "code",
   "execution_count": null,
   "metadata": {},
   "outputs": [],
   "source": []
  },
  {
   "cell_type": "code",
   "execution_count": null,
   "metadata": {},
   "outputs": [],
   "source": []
  },
  {
   "cell_type": "code",
   "execution_count": null,
   "metadata": {},
   "outputs": [],
   "source": []
  }
 ],
 "metadata": {
  "kernelspec": {
   "display_name": "class_1",
   "language": "python",
   "name": "python3"
  },
  "language_info": {
   "codemirror_mode": {
    "name": "ipython",
    "version": 3
   },
   "file_extension": ".py",
   "mimetype": "text/x-python",
   "name": "python",
   "nbconvert_exporter": "python",
   "pygments_lexer": "ipython3",
   "version": "3.10.9"
  }
 },
 "nbformat": 4,
 "nbformat_minor": 2
}
